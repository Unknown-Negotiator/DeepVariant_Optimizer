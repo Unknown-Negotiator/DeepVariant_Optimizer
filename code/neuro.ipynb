{
 "cells": [
  {
   "cell_type": "code",
   "execution_count": 312,
   "metadata": {
    "id": "cz89ou062ImY",
    "pycharm": {
     "name": "#%%\n"
    }
   },
   "outputs": [],
   "source": [
    "# Импорт Гугл-диска в среду Collab\n",
    "#from google.colab import drive\n",
    "#drive.mount('/content/drive')"
   ]
  },
  {
   "cell_type": "code",
   "execution_count": 16,
   "metadata": {
    "tags": []
   },
   "outputs": [],
   "source": [
    "#!pip install tensorflow"
   ]
  },
  {
   "cell_type": "code",
   "execution_count": 1,
   "metadata": {
    "id": "ZpGMrAsvKjjN",
    "pycharm": {
     "name": "#%%\n"
    }
   },
   "outputs": [],
   "source": [
    "from pandas import read_csv, DataFrame\n",
    "from sklearn.metrics import r2_score\n",
    "from sklearn.model_selection import cross_val_score\n",
    "from sklearn.model_selection import train_test_split\n",
    "import matplotlib.pyplot as plt"
   ]
  },
  {
   "cell_type": "code",
   "execution_count": 3,
   "metadata": {
    "tags": []
   },
   "outputs": [],
   "source": [
    "vcf_csv_dir = '/home/skomlev/data/vcf_csv'\n",
    "X4_path = vcf_csv_dir + '/X4.csv'"
   ]
  },
  {
   "cell_type": "code",
   "execution_count": 6,
   "metadata": {
    "colab": {
     "base_uri": "https://localhost:8080/"
    },
    "id": "sLFGMhAGKjjV",
    "outputId": "0a779d36-844b-4f5f-a59e-3ca310bf365b",
    "pycharm": {
     "name": "#%%\n"
    }
   },
   "outputs": [
    {
     "data": {
      "text/html": [
       "<div>\n",
       "<style scoped>\n",
       "    .dataframe tbody tr th:only-of-type {\n",
       "        vertical-align: middle;\n",
       "    }\n",
       "\n",
       "    .dataframe tbody tr th {\n",
       "        vertical-align: top;\n",
       "    }\n",
       "\n",
       "    .dataframe thead th {\n",
       "        text-align: right;\n",
       "    }\n",
       "</style>\n",
       "<table border=\"1\" class=\"dataframe\">\n",
       "  <thead>\n",
       "    <tr style=\"text-align: right;\">\n",
       "      <th></th>\n",
       "      <th>CHROM_num</th>\n",
       "      <th>POS</th>\n",
       "      <th>QUAL</th>\n",
       "      <th>GQ</th>\n",
       "      <th>DP</th>\n",
       "      <th>AD_ref</th>\n",
       "      <th>AD_alt</th>\n",
       "      <th>VAF</th>\n",
       "      <th>PL_0/0</th>\n",
       "      <th>PL_0/1</th>\n",
       "      <th>PL_1/1</th>\n",
       "      <th>ref_alt_diff</th>\n",
       "      <th>is_valid</th>\n",
       "    </tr>\n",
       "  </thead>\n",
       "  <tbody>\n",
       "    <tr>\n",
       "      <th>0</th>\n",
       "      <td>1</td>\n",
       "      <td>10352</td>\n",
       "      <td>4.0</td>\n",
       "      <td>3</td>\n",
       "      <td>6</td>\n",
       "      <td>3</td>\n",
       "      <td>2</td>\n",
       "      <td>0.333333</td>\n",
       "      <td>0</td>\n",
       "      <td>5</td>\n",
       "      <td>0</td>\n",
       "      <td>1</td>\n",
       "      <td>False</td>\n",
       "    </tr>\n",
       "    <tr>\n",
       "      <th>1</th>\n",
       "      <td>1</td>\n",
       "      <td>10389</td>\n",
       "      <td>7.2</td>\n",
       "      <td>3</td>\n",
       "      <td>7</td>\n",
       "      <td>4</td>\n",
       "      <td>2</td>\n",
       "      <td>0.285714</td>\n",
       "      <td>4</td>\n",
       "      <td>2</td>\n",
       "      <td>0</td>\n",
       "      <td>1</td>\n",
       "      <td>False</td>\n",
       "    </tr>\n",
       "    <tr>\n",
       "      <th>2</th>\n",
       "      <td>1</td>\n",
       "      <td>13613</td>\n",
       "      <td>13.3</td>\n",
       "      <td>10</td>\n",
       "      <td>5</td>\n",
       "      <td>0</td>\n",
       "      <td>5</td>\n",
       "      <td>1.000000</td>\n",
       "      <td>12</td>\n",
       "      <td>13</td>\n",
       "      <td>0</td>\n",
       "      <td>0</td>\n",
       "      <td>False</td>\n",
       "    </tr>\n",
       "    <tr>\n",
       "      <th>3</th>\n",
       "      <td>1</td>\n",
       "      <td>13684</td>\n",
       "      <td>13.8</td>\n",
       "      <td>11</td>\n",
       "      <td>3</td>\n",
       "      <td>0</td>\n",
       "      <td>3</td>\n",
       "      <td>1.000000</td>\n",
       "      <td>13</td>\n",
       "      <td>13</td>\n",
       "      <td>0</td>\n",
       "      <td>0</td>\n",
       "      <td>False</td>\n",
       "    </tr>\n",
       "    <tr>\n",
       "      <th>4</th>\n",
       "      <td>1</td>\n",
       "      <td>13813</td>\n",
       "      <td>11.6</td>\n",
       "      <td>9</td>\n",
       "      <td>5</td>\n",
       "      <td>0</td>\n",
       "      <td>5</td>\n",
       "      <td>1.000000</td>\n",
       "      <td>11</td>\n",
       "      <td>12</td>\n",
       "      <td>0</td>\n",
       "      <td>0</td>\n",
       "      <td>False</td>\n",
       "    </tr>\n",
       "    <tr>\n",
       "      <th>...</th>\n",
       "      <td>...</td>\n",
       "      <td>...</td>\n",
       "      <td>...</td>\n",
       "      <td>...</td>\n",
       "      <td>...</td>\n",
       "      <td>...</td>\n",
       "      <td>...</td>\n",
       "      <td>...</td>\n",
       "      <td>...</td>\n",
       "      <td>...</td>\n",
       "      <td>...</td>\n",
       "      <td>...</td>\n",
       "      <td>...</td>\n",
       "    </tr>\n",
       "    <tr>\n",
       "      <th>4584937</th>\n",
       "      <td>22</td>\n",
       "      <td>50807889</td>\n",
       "      <td>25.1</td>\n",
       "      <td>25</td>\n",
       "      <td>10</td>\n",
       "      <td>0</td>\n",
       "      <td>9</td>\n",
       "      <td>0.900000</td>\n",
       "      <td>25</td>\n",
       "      <td>40</td>\n",
       "      <td>0</td>\n",
       "      <td>0</td>\n",
       "      <td>False</td>\n",
       "    </tr>\n",
       "    <tr>\n",
       "      <th>4584938</th>\n",
       "      <td>22</td>\n",
       "      <td>50807905</td>\n",
       "      <td>4.2</td>\n",
       "      <td>4</td>\n",
       "      <td>9</td>\n",
       "      <td>2</td>\n",
       "      <td>7</td>\n",
       "      <td>0.777778</td>\n",
       "      <td>2</td>\n",
       "      <td>14</td>\n",
       "      <td>0</td>\n",
       "      <td>0</td>\n",
       "      <td>False</td>\n",
       "    </tr>\n",
       "    <tr>\n",
       "      <th>4584939</th>\n",
       "      <td>22</td>\n",
       "      <td>50807909</td>\n",
       "      <td>4.6</td>\n",
       "      <td>4</td>\n",
       "      <td>10</td>\n",
       "      <td>3</td>\n",
       "      <td>7</td>\n",
       "      <td>0.700000</td>\n",
       "      <td>2</td>\n",
       "      <td>16</td>\n",
       "      <td>0</td>\n",
       "      <td>0</td>\n",
       "      <td>False</td>\n",
       "    </tr>\n",
       "    <tr>\n",
       "      <th>4584940</th>\n",
       "      <td>22</td>\n",
       "      <td>50807933</td>\n",
       "      <td>5.5</td>\n",
       "      <td>5</td>\n",
       "      <td>13</td>\n",
       "      <td>10</td>\n",
       "      <td>3</td>\n",
       "      <td>0.230769</td>\n",
       "      <td>3</td>\n",
       "      <td>0</td>\n",
       "      <td>11</td>\n",
       "      <td>0</td>\n",
       "      <td>False</td>\n",
       "    </tr>\n",
       "    <tr>\n",
       "      <th>4584941</th>\n",
       "      <td>22</td>\n",
       "      <td>50808026</td>\n",
       "      <td>5.5</td>\n",
       "      <td>5</td>\n",
       "      <td>4</td>\n",
       "      <td>1</td>\n",
       "      <td>2</td>\n",
       "      <td>0.500000</td>\n",
       "      <td>3</td>\n",
       "      <td>13</td>\n",
       "      <td>0</td>\n",
       "      <td>0</td>\n",
       "      <td>False</td>\n",
       "    </tr>\n",
       "  </tbody>\n",
       "</table>\n",
       "<p>4584942 rows × 13 columns</p>\n",
       "</div>"
      ],
      "text/plain": [
       "         CHROM_num       POS  QUAL  GQ  DP  AD_ref  AD_alt       VAF  PL_0/0  \\\n",
       "0                1     10352   4.0   3   6       3       2  0.333333       0   \n",
       "1                1     10389   7.2   3   7       4       2  0.285714       4   \n",
       "2                1     13613  13.3  10   5       0       5  1.000000      12   \n",
       "3                1     13684  13.8  11   3       0       3  1.000000      13   \n",
       "4                1     13813  11.6   9   5       0       5  1.000000      11   \n",
       "...            ...       ...   ...  ..  ..     ...     ...       ...     ...   \n",
       "4584937         22  50807889  25.1  25  10       0       9  0.900000      25   \n",
       "4584938         22  50807905   4.2   4   9       2       7  0.777778       2   \n",
       "4584939         22  50807909   4.6   4  10       3       7  0.700000       2   \n",
       "4584940         22  50807933   5.5   5  13      10       3  0.230769       3   \n",
       "4584941         22  50808026   5.5   5   4       1       2  0.500000       3   \n",
       "\n",
       "         PL_0/1  PL_1/1  ref_alt_diff  is_valid  \n",
       "0             5       0             1     False  \n",
       "1             2       0             1     False  \n",
       "2            13       0             0     False  \n",
       "3            13       0             0     False  \n",
       "4            12       0             0     False  \n",
       "...         ...     ...           ...       ...  \n",
       "4584937      40       0             0     False  \n",
       "4584938      14       0             0     False  \n",
       "4584939      16       0             0     False  \n",
       "4584940       0      11             0     False  \n",
       "4584941      13       0             0     False  \n",
       "\n",
       "[4584942 rows x 13 columns]"
      ]
     },
     "execution_count": 6,
     "metadata": {},
     "output_type": "execute_result"
    }
   ],
   "source": [
    "dataset = read_csv(X4_path)\n",
    "dataset"
   ]
  },
  {
   "cell_type": "code",
   "execution_count": 7,
   "metadata": {
    "colab": {
     "base_uri": "https://localhost:8080/"
    },
    "id": "aSbfkcDM8ZdJ",
    "outputId": "7653263a-3729-4020-e874-b42cc7b6a916",
    "pycharm": {
     "name": "#%%\n"
    }
   },
   "outputs": [
    {
     "data": {
      "text/plain": [
       "CHROM_num         int64\n",
       "POS               int64\n",
       "QUAL            float64\n",
       "GQ                int64\n",
       "DP                int64\n",
       "AD_ref            int64\n",
       "AD_alt            int64\n",
       "VAF             float64\n",
       "PL_0/0            int64\n",
       "PL_0/1            int64\n",
       "PL_1/1            int64\n",
       "ref_alt_diff      int64\n",
       "is_valid           bool\n",
       "dtype: object"
      ]
     },
     "execution_count": 7,
     "metadata": {},
     "output_type": "execute_result"
    }
   ],
   "source": [
    "dataset.dtypes"
   ]
  },
  {
   "cell_type": "code",
   "execution_count": 8,
   "metadata": {
    "colab": {
     "base_uri": "https://localhost:8080/"
    },
    "id": "_u246xd8Kjja",
    "outputId": "97b72be1-d200-41d4-c2e7-ed63d462c27e",
    "pycharm": {
     "name": "#%%\n"
    }
   },
   "outputs": [
    {
     "name": "stdout",
     "output_type": "stream",
     "text": [
      "         is_valid\n",
      "0           False\n",
      "1           False\n",
      "2           False\n",
      "3           False\n",
      "4           False\n",
      "...           ...\n",
      "4584937     False\n",
      "4584938     False\n",
      "4584939     False\n",
      "4584940     False\n",
      "4584941     False\n",
      "\n",
      "[4584942 rows x 1 columns]\n"
     ]
    }
   ],
   "source": [
    "#разделение входных и выходных данных\n",
    "trg = dataset[['is_valid']]\n",
    "# выходные данные\n",
    "print (trg)"
   ]
  },
  {
   "cell_type": "code",
   "execution_count": 9,
   "metadata": {
    "colab": {
     "base_uri": "https://localhost:8080/"
    },
    "id": "0kJLQmqP916k",
    "outputId": "92052965-6d2e-40fb-b448-ddeb88d59f9d",
    "pycharm": {
     "name": "#%%\n"
    }
   },
   "outputs": [
    {
     "name": "stdout",
     "output_type": "stream",
     "text": [
      "         CHROM_num       POS  QUAL  GQ  DP  AD_ref  AD_alt       VAF  PL_0/0  \\\n",
      "0                1     10352   4.0   3   6       3       2  0.333333       0   \n",
      "1                1     10389   7.2   3   7       4       2  0.285714       4   \n",
      "2                1     13613  13.3  10   5       0       5  1.000000      12   \n",
      "3                1     13684  13.8  11   3       0       3  1.000000      13   \n",
      "4                1     13813  11.6   9   5       0       5  1.000000      11   \n",
      "...            ...       ...   ...  ..  ..     ...     ...       ...     ...   \n",
      "4584937         22  50807889  25.1  25  10       0       9  0.900000      25   \n",
      "4584938         22  50807905   4.2   4   9       2       7  0.777778       2   \n",
      "4584939         22  50807909   4.6   4  10       3       7  0.700000       2   \n",
      "4584940         22  50807933   5.5   5  13      10       3  0.230769       3   \n",
      "4584941         22  50808026   5.5   5   4       1       2  0.500000       3   \n",
      "\n",
      "         PL_0/1  PL_1/1  ref_alt_diff  \n",
      "0             5       0             1  \n",
      "1             2       0             1  \n",
      "2            13       0             0  \n",
      "3            13       0             0  \n",
      "4            12       0             0  \n",
      "...         ...     ...           ...  \n",
      "4584937      40       0             0  \n",
      "4584938      14       0             0  \n",
      "4584939      16       0             0  \n",
      "4584940       0      11             0  \n",
      "4584941      13       0             0  \n",
      "\n",
      "[4584942 rows x 12 columns]\n"
     ]
    }
   ],
   "source": [
    "# убираем столбец D1\n",
    "trn = dataset.drop(['is_valid'], axis=1)\n",
    "# матрица входных параметров\n",
    "print (trn)"
   ]
  },
  {
   "cell_type": "code",
   "execution_count": 19,
   "metadata": {
    "colab": {
     "base_uri": "https://localhost:8080/"
    },
    "id": "SF2mAraEKjjd",
    "outputId": "6fb1cba0-678d-4d1c-fcce-ae9658973aeb",
    "pycharm": {
     "name": "#%%\n"
    }
   },
   "outputs": [
    {
     "name": "stdout",
     "output_type": "stream",
     "text": [
      "Xtrn\n",
      "(3667953, 12)\n",
      "         CHROM_num        POS  QUAL  GQ  DP  AD_ref  AD_alt       VAF  PL_0/0  \\\n",
      "100273           1   65991442  60.2  57  39       0      39  1.000000      60   \n",
      "4372910         20   16396180  44.4  44  32      17      15  0.468750      44   \n",
      "2086013          7   67701794  40.4  40  34      17      17  0.500000      40   \n",
      "2092278          7   71298807  38.3  38  21      10      11  0.523810      38   \n",
      "245633           1  174768559  33.2  33  38      24      14  0.368421      33   \n",
      "...            ...        ...   ...  ..  ..     ...     ...       ...     ...   \n",
      "1136074          4   49135974  13.2  13  77       5      66  0.857143      12   \n",
      "1570006          5  117705756  52.7  41  18       0      17  0.944444      52   \n",
      "2234489          8    2380271  13.5  13  55      31      24  0.436364      13   \n",
      "4304572         19   37224802  47.2  47  45      30      14  0.311111      47   \n",
      "1692743          6   11894403  58.8  58  33       0      33  1.000000      58   \n",
      "\n",
      "         PL_0/1  PL_1/1  ref_alt_diff  \n",
      "100273       60       0             0  \n",
      "4372910       0      67             0  \n",
      "2086013       0      63             0  \n",
      "2092278       0      67             0  \n",
      "245633        0      59             0  \n",
      "...         ...     ...           ...  \n",
      "1136074      25       0             0  \n",
      "1570006      40       0             0  \n",
      "2234489       0      25             0  \n",
      "4304572       0      66             1  \n",
      "1692743      64       0             0  \n",
      "\n",
      "[3667953 rows x 12 columns]\n",
      "Ytrn\n",
      "         is_valid\n",
      "100273       True\n",
      "4372910      True\n",
      "2086013      True\n",
      "2092278      True\n",
      "245633       True\n",
      "...           ...\n",
      "1136074     False\n",
      "1570006      True\n",
      "2234489      True\n",
      "4304572      True\n",
      "1692743      True\n",
      "\n",
      "[3667953 rows x 1 columns]\n",
      "Xtest\n",
      "(916989, 12)\n",
      "         CHROM_num        POS  QUAL  GQ  DP  AD_ref  AD_alt       VAF  PL_0/0  \\\n",
      "958466           3  141216875  33.1  33  42      26      16  0.380952      33   \n",
      "597011           2  158692713  36.3  36  44      19      25  0.568182      36   \n",
      "192660           1  123192970   5.7   3   5       3       2  0.400000       2   \n",
      "4290213         19   28764417  50.9  51  43      27      16  0.372093      50   \n",
      "2272738          8   14544702  38.5  39  36      19      17  0.472222      38   \n",
      "...            ...        ...   ...  ..  ..     ...     ...       ...     ...   \n",
      "2637197          9  117039545  47.8  48  33      16      17  0.515152      47   \n",
      "2991670         11   39890868  63.3  53  36       0      36  1.000000      63   \n",
      "211665           1  153870767  42.3  42  36      14      22  0.611111      42   \n",
      "4167092         18   42085883  39.7  40  28      17      11  0.392857      39   \n",
      "321950           1  224860989  48.3  48  40      22      18  0.450000      48   \n",
      "\n",
      "         PL_0/1  PL_1/1  ref_alt_diff  \n",
      "958466        0      59             0  \n",
      "597011        0      58             0  \n",
      "192660        3       0             0  \n",
      "4290213       0      66             0  \n",
      "2272738       0      65             0  \n",
      "...         ...     ...           ...  \n",
      "2637197       0      66             0  \n",
      "2991670      53       0             0  \n",
      "211665        0      56             0  \n",
      "4167092       0      62             0  \n",
      "321950        0      99             0  \n",
      "\n",
      "[916989 rows x 12 columns]\n",
      "Ytest\n",
      "         is_valid\n",
      "958466       True\n",
      "597011       True\n",
      "192660      False\n",
      "4290213      True\n",
      "2272738      True\n",
      "...           ...\n",
      "2637197      True\n",
      "2991670      True\n",
      "211665       True\n",
      "4167092      True\n",
      "321950       True\n",
      "\n",
      "[916989 rows x 1 columns]\n"
     ]
    }
   ],
   "source": [
    "# разделение на обучающее и тестовое\n",
    "Xtrn, Xtest, Ytrn, Ytest = train_test_split(trn, trg, test_size=0.2, random_state=42)\n",
    "\n",
    "print('Xtrn')\n",
    "print(Xtrn.shape)\n",
    "print(Xtrn)\n",
    "print('Ytrn')\n",
    "print(Ytrn)\n",
    "\n",
    "print('Xtest')\n",
    "print(Xtest.shape)\n",
    "print(Xtest)\n",
    "print('Ytest')\n",
    "print(Ytest)\n",
    "\n",
    "\n",
    "# Xtrn.to_excel('./training.xlsx')\n",
    "# Xtest.to_excel('./testing.xlsx')\n",
    "# Ytrn.to_excel('./Ytraining.xlsx')\n",
    "# Ytest.to_excel('./Ytesting.xlsx')\n"
   ]
  },
  {
   "cell_type": "code",
   "execution_count": 20,
   "metadata": {
    "colab": {
     "base_uri": "https://localhost:8080/"
    },
    "id": "TJY3k-eTb-Zs",
    "outputId": "20dcf5dc-01de-4fa4-80ca-5ecdabd2816a",
    "pycharm": {
     "name": "#%%\n"
    }
   },
   "outputs": [
    {
     "name": "stdout",
     "output_type": "stream",
     "text": [
      "Xtrn\n",
      "         CHROM_num       POS      QUAL        GQ        DP    AD_ref  \\\n",
      "100273   -1.337617 -0.200133  1.045211  0.995818  0.597469 -1.063550   \n",
      "4372910   1.934245 -1.081159 -0.087881  0.030163 -0.052972  0.730324   \n",
      "2086013  -0.304397 -0.169750 -0.374740 -0.266961  0.132869  0.730324   \n",
      "2092278  -0.304397 -0.105852 -0.525341 -0.415523 -1.075093 -0.008330   \n",
      "245633   -1.337617  1.732217 -0.891086 -0.786929  0.504549  1.468978   \n",
      "...            ...       ...       ...       ...       ...       ...   \n",
      "1136074  -0.821007 -0.499559 -2.325380 -2.272551  4.128435 -0.535940   \n",
      "1570006  -0.648804  0.718536  0.507351 -0.192680 -1.353854 -1.063550   \n",
      "2234489  -0.132194 -1.330142 -2.303866 -2.272551  2.084192  2.207632   \n",
      "4304572   1.762042 -0.711153  0.112920  0.253007  1.154990  2.102110   \n",
      "1692743  -0.476601 -1.161130  0.944810  1.070099  0.039948 -1.063550   \n",
      "\n",
      "           AD_alt       VAF    PL_0/0    PL_0/1    PL_1/1  ref_alt_diff  \n",
      "100273   1.475441  1.218392  1.058765  1.381655 -1.154405     -0.209186  \n",
      "4372910 -0.647726 -0.863749 -0.075178 -0.764758  1.036704     -0.209186  \n",
      "2086013 -0.470795 -0.741270 -0.358664 -0.764758  0.905892     -0.209186  \n",
      "2092278 -1.001587 -0.647951 -0.500407 -0.764758  1.036704     -0.209186  \n",
      "245633  -0.736191 -1.256971 -0.854765 -0.764758  0.775079     -0.209186  \n",
      "...           ...       ...       ...       ...       ...           ...  \n",
      "1136074  3.864003  0.658489 -2.343066  0.129580 -1.154405     -0.209186  \n",
      "1570006 -0.470795  1.000650  0.491794  0.666184 -1.154405     -0.209186  \n",
      "2234489  0.148462 -0.990680 -2.272194 -0.764758 -0.336827     -0.209186  \n",
      "4304572 -0.736191 -1.481587  0.137436 -0.764758  1.004001      0.148060  \n",
      "1692743  0.944649  1.218392  0.917022  1.524749 -1.154405     -0.209186  \n",
      "\n",
      "[3667953 rows x 12 columns]\n",
      "Xtest\n",
      "         CHROM_num       POS      QUAL        GQ        DP    AD_ref  \\\n",
      "958466   -0.993210  1.136195 -0.898258 -0.786929  0.876230  1.680022   \n",
      "597011   -1.165414  1.446641 -0.668770 -0.564086  1.062070  0.941368   \n",
      "192660   -1.337617  0.816012 -2.863240 -3.015362 -2.561815 -0.746984   \n",
      "4290213   1.762042 -0.861446  0.378264  0.550131  0.969150  1.785544   \n",
      "2272738  -0.132194 -1.114049 -0.510998 -0.341242  0.318709  0.941368   \n",
      "...            ...       ...       ...       ...       ...       ...   \n",
      "2637197   0.040009  0.706701  0.155949  0.327288  0.039948  0.624802   \n",
      "2991670   0.384416 -0.663792  1.267526  0.698693  0.318709 -1.063550   \n",
      "211665   -1.337617  1.360982 -0.238482 -0.118399  0.318709  0.413758   \n",
      "4167092   1.589838 -0.624799 -0.424940 -0.266961 -0.424652  0.730324   \n",
      "321950   -1.337617  2.622075  0.191806  0.327288  0.690389  1.257934   \n",
      "\n",
      "           AD_alt       VAF    PL_0/0    PL_0/1    PL_1/1  ref_alt_diff  \n",
      "958466  -0.559260 -1.207858 -0.854765 -0.764758  0.775079     -0.209186  \n",
      "597011   0.236927 -0.474043 -0.642150 -0.764758  0.742376     -0.209186  \n",
      "192660  -1.797774 -1.133202 -3.051781 -0.657438 -1.154405     -0.209186  \n",
      "4290213 -0.559260 -1.242579  0.350051 -0.764758  1.004001     -0.209186  \n",
      "2272738 -0.470795 -0.850141 -0.500407 -0.764758  0.971298     -0.209186  \n",
      "...           ...       ...       ...       ...       ...           ...  \n",
      "2637197 -0.470795 -0.681884  0.137436 -0.764758  1.004001     -0.209186  \n",
      "2991670  1.210045  1.218392  1.271380  1.131240 -1.154405     -0.209186  \n",
      "211665  -0.028469 -0.305790 -0.216921 -0.764758  0.676970     -0.209186  \n",
      "4167092 -1.001587 -1.161198 -0.429536 -0.764758  0.873189     -0.209186  \n",
      "321950  -0.382330 -0.937236  0.208308 -0.764758  2.083204     -0.209186  \n",
      "\n",
      "[916989 rows x 12 columns]\n",
      "mean\n",
      "CHROM_num       8.767663e+00\n",
      "POS             7.725747e+07\n",
      "QUAL            4.562543e+01\n",
      "GQ              4.359393e+01\n",
      "DP              3.257008e+01\n",
      "AD_ref          1.007894e+01\n",
      "AD_alt          2.232181e+01\n",
      "VAF             6.891321e-01\n",
      "PL_0/0          4.506077e+01\n",
      "PL_0/1          2.137776e+01\n",
      "PL_1/1          3.529954e+01\n",
      "ref_alt_diff    5.855517e-01\n",
      "dtype: float64\n",
      "std\n",
      "CHROM_num       5.807091e+00\n",
      "POS             5.629264e+07\n",
      "QUAL            1.394414e+01\n",
      "GQ              1.346237e+01\n",
      "DP              1.076193e+01\n",
      "AD_ref          9.476696e+00\n",
      "AD_alt          1.130387e+01\n",
      "VAF             2.551460e-01\n",
      "PL_0/0          1.411005e+01\n",
      "PL_0/1          2.795361e+01\n",
      "PL_1/1          3.057812e+01\n",
      "ref_alt_diff    2.799185e+00\n",
      "dtype: float64\n"
     ]
    },
    {
     "data": {
      "text/plain": [
       "(3667953, 12)"
      ]
     },
     "execution_count": 20,
     "metadata": {},
     "output_type": "execute_result"
    }
   ],
   "source": [
    "#  Стандартизация Xtrn, Xtest \n",
    "mean = Xtrn.mean(axis=0)\n",
    "std = Xtrn.std(axis=0)\n",
    "# вычитаем среднее значение по столбцу\n",
    "Xtrn -= mean\n",
    "# делим на стандартное отклонением\n",
    "Xtrn /= std\n",
    "Xtest -= mean\n",
    "Xtest /= std\n",
    "# Теперь каждый вх параметр имеет нулевое среднее и стандартное отклонение = 1\n",
    "\n",
    "print('Xtrn')\n",
    "print(Xtrn)\n",
    "print('Xtest')\n",
    "print(Xtest)\n",
    "print('mean')\n",
    "print(mean)\n",
    "print('std')\n",
    "print(std)\n",
    "Xtrn.shape"
   ]
  },
  {
   "cell_type": "code",
   "execution_count": 21,
   "metadata": {
    "id": "6FAbJj-gmooy",
    "pycharm": {
     "name": "#%%\n"
    }
   },
   "outputs": [],
   "source": [
    "# # # #     ПРОЕКТИРОВАНИЕ МОДЕЛИ    # # # # # # # # # # # # # # # # # # # # # # #\n",
    "# подключаем керас\n",
    "import numpy as np\n",
    "# метод обучения\n",
    "from tensorflow.keras.optimizers import Adam\n",
    "# модель персептрона\n",
    "from tensorflow.keras.models import Sequential\n",
    "# слои персептрона, дропаут-регуляризация\n",
    "from tensorflow.keras.layers import Dense, Dropout\n",
    "from tensorflow.keras import utils\n",
    "# гребневая регуляризация\n",
    "from tensorflow.keras import regularizers\n",
    "#import matplotlib.pyplot as plt\n",
    "\n",
    "# Преобразуем формат множеств в формат numpy\n",
    "x_train = Xtrn.to_numpy()\n",
    "y_train = Ytrn.to_numpy()\n",
    "\n",
    "x_test = Xtest.to_numpy()\n",
    "y_test = Ytest.to_numpy()\n",
    "\n",
    "#   ПРОЕКТИРУЕМ МОДЕЛЬ\n",
    "# персептрон\n",
    "model = Sequential()\n",
    "# первый слой 7 параметров, активационная функция гиперболич. тангенс\n",
    "model.add(Dense(7, activation=\"tanh\"))\n",
    "# дропаут-регуляризация\n",
    "# model.add(Dropout(0.01))\n",
    "# скрытый слой\n",
    "model.add(Dense(2, kernel_regularizer=regularizers.L1(0.001), activation=\"tanh\"))\n",
    "# выходной слой один нейрон, активат функция линейная по умолчанию\n",
    "model.add(Dense(1))\n",
    "\n",
    "# максимальная ошибка\n",
    "from sklearn.metrics import max_error\n",
    "\n",
    "#model.compile(loss='mean_squared_error', optimizer='RMSprop', metrics=[\"mae\"])\n",
    "#model.compile(loss='mean_squared_error', optimizer='Adam', metrics=[\"mae\"])\n",
    "model.compile(optimizer=Adam(learning_rate=0.006, beta_1=0.9, beta_2=0.999, amsgrad=False), loss=\"mse\", metrics=[\"mae\"])\n",
    "#  mae - mean absolute error (Средняя абсолютная ошибка)\n",
    "\n",
    "\n",
    "\n",
    "\n"
   ]
  },
  {
   "cell_type": "code",
   "execution_count": null,
   "metadata": {
    "colab": {
     "base_uri": "https://localhost:8080/"
    },
    "id": "UbDb8BjBNPZo",
    "outputId": "f661d63c-1f19-4a35-a7c1-4aea6aaca866",
    "pycharm": {
     "name": "#%%\n"
    }
   },
   "outputs": [
    {
     "name": "stdout",
     "output_type": "stream",
     "text": [
      "Epoch 1/100\n",
      "103162/103162 [==============================] - 106s 1ms/step - loss: 0.0648 - mae: 0.1277 - val_loss: 0.0641 - val_mae: 0.1207\n",
      "Epoch 2/100\n",
      "103162/103162 [==============================] - 105s 1ms/step - loss: 0.0647 - mae: 0.1273 - val_loss: 0.0640 - val_mae: 0.1336\n",
      "Epoch 3/100\n",
      "103162/103162 [==============================] - 105s 1ms/step - loss: 0.0647 - mae: 0.1272 - val_loss: 0.0641 - val_mae: 0.1251\n",
      "Epoch 4/100\n",
      "103162/103162 [==============================] - 105s 1ms/step - loss: 0.0647 - mae: 0.1271 - val_loss: 0.0643 - val_mae: 0.1238\n",
      "Epoch 5/100\n",
      "103162/103162 [==============================] - 105s 1ms/step - loss: 0.0647 - mae: 0.1271 - val_loss: 0.0650 - val_mae: 0.1257\n",
      "Epoch 6/100\n",
      "103162/103162 [==============================] - 104s 1ms/step - loss: 0.0647 - mae: 0.1271 - val_loss: 0.0644 - val_mae: 0.1265\n",
      "Epoch 7/100\n",
      "103162/103162 [==============================] - 105s 1ms/step - loss: 0.0647 - mae: 0.1270 - val_loss: 0.0642 - val_mae: 0.1363\n",
      "Epoch 8/100\n",
      "103162/103162 [==============================] - 105s 1ms/step - loss: 0.0647 - mae: 0.1271 - val_loss: 0.0640 - val_mae: 0.1331\n",
      "Epoch 9/100\n",
      "103162/103162 [==============================] - 103s 1ms/step - loss: 0.0646 - mae: 0.1270 - val_loss: 0.0654 - val_mae: 0.1151\n",
      "Epoch 10/100\n",
      "103162/103162 [==============================] - 104s 1ms/step - loss: 0.0647 - mae: 0.1271 - val_loss: 0.0650 - val_mae: 0.1321\n",
      "Epoch 11/100\n",
      "103162/103162 [==============================] - 105s 1ms/step - loss: 0.0647 - mae: 0.1270 - val_loss: 0.0643 - val_mae: 0.1307\n",
      "Epoch 12/100\n",
      "103162/103162 [==============================] - 104s 1ms/step - loss: 0.0647 - mae: 0.1270 - val_loss: 0.0653 - val_mae: 0.1474\n",
      "Epoch 13/100\n",
      "103162/103162 [==============================] - 104s 1ms/step - loss: 0.0647 - mae: 0.1270 - val_loss: 0.0648 - val_mae: 0.1119\n",
      "Epoch 14/100\n",
      "103162/103162 [==============================] - 104s 1ms/step - loss: 0.0647 - mae: 0.1270 - val_loss: 0.0647 - val_mae: 0.1197\n",
      "Epoch 15/100\n",
      "103162/103162 [==============================] - 105s 1ms/step - loss: 0.0647 - mae: 0.1271 - val_loss: 0.0645 - val_mae: 0.1127\n",
      "Epoch 16/100\n",
      "103162/103162 [==============================] - 104s 1ms/step - loss: 0.0647 - mae: 0.1270 - val_loss: 0.0643 - val_mae: 0.1348\n",
      "Epoch 17/100\n",
      "103162/103162 [==============================] - 104s 1ms/step - loss: 0.0647 - mae: 0.1270 - val_loss: 0.0645 - val_mae: 0.1249\n",
      "Epoch 18/100\n",
      "103162/103162 [==============================] - 104s 1ms/step - loss: 0.0647 - mae: 0.1270 - val_loss: 0.0641 - val_mae: 0.1256\n",
      "Epoch 19/100\n",
      "103162/103162 [==============================] - 105s 1ms/step - loss: 0.0647 - mae: 0.1270 - val_loss: 0.0641 - val_mae: 0.1203\n",
      "Epoch 20/100\n",
      "103162/103162 [==============================] - 105s 1ms/step - loss: 0.0647 - mae: 0.1270 - val_loss: 0.0644 - val_mae: 0.1211\n",
      "Epoch 21/100\n",
      "103162/103162 [==============================] - 104s 1ms/step - loss: 0.0647 - mae: 0.1270 - val_loss: 0.0645 - val_mae: 0.1148\n",
      "Epoch 22/100\n",
      "103162/103162 [==============================] - 104s 1ms/step - loss: 0.0647 - mae: 0.1270 - val_loss: 0.0642 - val_mae: 0.1250\n",
      "Epoch 23/100\n",
      "103162/103162 [==============================] - 105s 1ms/step - loss: 0.0647 - mae: 0.1270 - val_loss: 0.0646 - val_mae: 0.1323\n",
      "Epoch 24/100\n",
      "103162/103162 [==============================] - 104s 1ms/step - loss: 0.0647 - mae: 0.1270 - val_loss: 0.0641 - val_mae: 0.1259\n",
      "Epoch 25/100\n",
      "103162/103162 [==============================] - 104s 1ms/step - loss: 0.0647 - mae: 0.1270 - val_loss: 0.0645 - val_mae: 0.1211\n",
      "Epoch 26/100\n",
      "103162/103162 [==============================] - 106s 1ms/step - loss: 0.0647 - mae: 0.1271 - val_loss: 0.0640 - val_mae: 0.1303\n",
      "Epoch 27/100\n",
      "103162/103162 [==============================] - 104s 1ms/step - loss: 0.0647 - mae: 0.1270 - val_loss: 0.0649 - val_mae: 0.1126\n",
      "Epoch 28/100\n",
      "103162/103162 [==============================] - 105s 1ms/step - loss: 0.0647 - mae: 0.1270 - val_loss: 0.0649 - val_mae: 0.1227\n",
      "Epoch 29/100\n",
      "103162/103162 [==============================] - 104s 1ms/step - loss: 0.0647 - mae: 0.1270 - val_loss: 0.0643 - val_mae: 0.1157\n",
      "Epoch 30/100\n",
      "103162/103162 [==============================] - 105s 1ms/step - loss: 0.0647 - mae: 0.1270 - val_loss: 0.0649 - val_mae: 0.1062\n",
      "Epoch 31/100\n",
      " 29014/103162 [=======>......................] - ETA: 1:09 - loss: 0.0647 - mae: 0.1272"
     ]
    }
   ],
   "source": [
    "# # # #     ОБУЧЕНИЕ НЕЙРОСЕТИ    # # # # # # # # # # # # # # # # # # # # # # #\n",
    "# validation_split для расщепление обучающего множества на обучающее и валидирующее\n",
    "history = model.fit(x_train, y_train, validation_split=0.10, verbose=1, epochs=100)\n",
    "# history = model.fit(x_train, y_train, epochs=10, batch_size=1, verbose=1)"
   ]
  },
  {
   "cell_type": "code",
   "execution_count": null,
   "metadata": {},
   "outputs": [],
   "source": [
    "from joblib import dump, load\n",
    "import pickle"
   ]
  },
  {
   "cell_type": "code",
   "execution_count": null,
   "metadata": {
    "tags": []
   },
   "outputs": [],
   "source": [
    "def save_sklearn_model(model, out_path: str, gzip = True):\n",
    "    pickle.dump(model, open(out_path, 'wb'))\n",
    "    !gzip $out_path"
   ]
  },
  {
   "cell_type": "code",
   "execution_count": null,
   "metadata": {
    "tags": []
   },
   "outputs": [],
   "source": [
    "models_dir = '/home/skomlev/models'"
   ]
  },
  {
   "cell_type": "code",
   "execution_count": null,
   "metadata": {
    "tags": []
   },
   "outputs": [],
   "source": [
    "save_sklearn_model(model, models_dir + '/NN_def_by_ded.sav')"
   ]
  },
  {
   "cell_type": "code",
   "execution_count": null,
   "metadata": {
    "tags": []
   },
   "outputs": [],
   "source": [
    "save_sklearn_model(history, models_dir + '/history_def_by_ded.sav')"
   ]
  },
  {
   "cell_type": "code",
   "execution_count": 322,
   "metadata": {
    "colab": {
     "base_uri": "https://localhost:8080/",
     "height": 265
    },
    "id": "1ege5j7pe2Ub",
    "outputId": "f239eec9-6790-46c2-d131-a880ce2f4193",
    "pycharm": {
     "name": "#%%\n"
    }
   },
   "outputs": [
    {
     "data": {
      "image/png": "[encoded data removed]",
      "text/plain": [
       "<Figure size 432x288 with 1 Axes>"
      ]
     },
     "metadata": {
      "needs_background": "light"
     },
     "output_type": "display_data"
    }
   ],
   "source": [
    "\n",
    "# строим График функции потерь\n",
    "plt.plot(history.history['loss'])\n",
    "plt.plot(history.history['val_loss'])\n",
    "plt.grid(True)\n",
    "plt.show()\n",
    "\n",
    "\n"
   ]
  },
  {
   "cell_type": "code",
   "execution_count": null,
   "metadata": {},
   "outputs": [],
   "source": []
  },
  {
   "cell_type": "code",
   "execution_count": 323,
   "metadata": {
    "colab": {
     "base_uri": "https://localhost:8080/"
    },
    "id": "-3ExpNyqh_P2",
    "outputId": "519dc815-14b1-4075-e476-afd63ef54a42",
    "pycharm": {
     "name": "#%%\n"
    }
   },
   "outputs": [
    {
     "name": "stdout",
     "output_type": "stream",
     "text": [
      "1/1 [==============================] - 0s 81ms/step\n",
      "(5, 1)\n",
      "y_test\n",
      "[[0]\n",
      " [0]\n",
      " [1]\n",
      " [1]\n",
      " [0]]\n",
      "predictions\n",
      "[[ 0.20373648]\n",
      " [-0.1204702 ]\n",
      " [ 1.0030417 ]\n",
      " [ 1.0170269 ]\n",
      " [-0.00994688]]\n"
     ]
    }
   ],
   "source": [
    "# Проверка на тестовом множестве\n",
    "predictions = model.predict(x_test)\n",
    "print(y_test.shape)\n",
    "\n",
    "print('y_test')\n",
    "print(y_test)\n",
    "print('predictions')\n",
    "print(predictions)"
   ]
  },
  {
   "cell_type": "code",
   "execution_count": 324,
   "metadata": {
    "colab": {
     "base_uri": "https://localhost:8080/",
     "height": 449
    },
    "id": "evjbgAFi1c_l",
    "outputId": "98d2b0fa-8206-4152-a4b3-7125ed8e915d",
    "pycharm": {
     "name": "#%%\n"
    }
   },
   "outputs": [
    {
     "data": {
      "image/png": "[encoded data removed]",
      "text/plain": [
       "<Figure size 864x432 with 1 Axes>"
      ]
     },
     "metadata": {},
     "output_type": "display_data"
    }
   ],
   "source": [
    "def GlDiagram(n):\n",
    "  # построение графика сравнения прогнозируемых значений и тестовых (фактических) значений\n",
    "  # Входные данные: y_test, prediсtion \n",
    "  # n - количество выводимых значений\n",
    " \n",
    "  %matplotlib inline\n",
    "  import numpy as np\n",
    "  import matplotlib.pyplot as plt\n",
    "\n",
    "  #  Задаем смещение равное половине ширины прямоугольника:\n",
    "  x1 = np.arange(1, n) - 0.2\n",
    "  x2 = np.arange(1, n) + 0.2\n",
    "\n",
    "  #y1 = Ytest.to_numpy().flatten()[:n-1]\n",
    "  #y2 = predition.flatten()[:n-1]\n",
    "  \n",
    "  y1 = y_test.flatten()[:n-1]\n",
    "  y2 = predictions.flatten()[:n-1] \n",
    "\n",
    "  \n",
    "  fig, ax = plt.subplots()\n",
    "\n",
    "  ax.bar(x1, y1, width = 0.4)\n",
    "  ax.bar(x2, y2, width = 0.4)\n",
    "\n",
    "  ax.set_facecolor('seashell')\n",
    "  fig.set_figwidth(12)    #  ширина Figure\n",
    "  fig.set_figheight(6)    #  высота Figure\n",
    "  fig.set_facecolor('floralwhite')\n",
    "  fig.suptitle(\"Сравнение прогнозного значения и фактического значения результатов выборов\")\n",
    "  fig.legend([\"Фактические значения D\", \"Прогноз Y\"], loc = \"lower center\")\n",
    "  plt.xlim([0,n])\n",
    "  plt.show()\n",
    " \n",
    "# Запуск процедуры:\n",
    "GlDiagram(n=6)"
   ]
  },
  {
   "cell_type": "code",
   "execution_count": 325,
   "metadata": {
    "colab": {
     "base_uri": "https://localhost:8080/"
    },
    "id": "0SIL91KEtq42",
    "outputId": "6b16fcb2-0d4c-400c-a5bb-d41430f2d76d",
    "pycharm": {
     "name": "#%%\n"
    }
   },
   "outputs": [
    {
     "name": "stdout",
     "output_type": "stream",
     "text": [
      "(5, 1)\n"
     ]
    }
   ],
   "source": [
    "print(y_test.shape)"
   ]
  },
  {
   "cell_type": "markdown",
   "metadata": {
    "id": "keCm3exfvb7w",
    "pycharm": {
     "name": "#%% md\n"
    }
   },
   "source": [
    "********       ОЦЕНКА КАЧЕСТВА МОДЕЛИ   ************************************"
   ]
  },
  {
   "cell_type": "code",
   "execution_count": 326,
   "metadata": {
    "colab": {
     "base_uri": "https://localhost:8080/"
    },
    "id": "h-uHJiR8wp5G",
    "outputId": "791a10d3-9149-4790-f9cf-d7ee3c067b09",
    "pycharm": {
     "name": "#%%\n"
    }
   },
   "outputs": [
    {
     "name": "stdout",
     "output_type": "stream",
     "text": [
      "r2= 0.952983557408619\n"
     ]
    }
   ],
   "source": [
    "# Вычисление коэффициент детерминации\n",
    "from sklearn.metrics import r2_score\n",
    "r2 = r2_score(y_test, predictions)\n",
    "print('r2=', r2)"
   ]
  },
  {
   "cell_type": "code",
   "execution_count": 327,
   "metadata": {
    "colab": {
     "base_uri": "https://localhost:8080/"
    },
    "id": "BPqD_2uNxu-U",
    "outputId": "0e058de9-6f86-4819-a2d9-885066541caa",
    "pycharm": {
     "name": "#%%\n"
    }
   },
   "outputs": [
    {
     "name": "stdout",
     "output_type": "stream",
     "text": [
      "(5, 1)\n",
      "(5, 1)\n",
      "max_error = 0.20373648405075073\n"
     ]
    }
   ],
   "source": [
    "# Вычисление абсолютной максимальной ошибки (max_error)\n",
    "from sklearn.metrics import max_error\n",
    "print(y_test.shape)\n",
    "print(predictions.shape)\n",
    "max_error = max_error(y_test, predictions)\n",
    "print('max_error =', max_error)"
   ]
  },
  {
   "cell_type": "code",
   "execution_count": 328,
   "metadata": {
    "colab": {
     "base_uri": "https://localhost:8080/"
    },
    "id": "GQuQgPG-yZGS",
    "outputId": "e1ce5944-1f9f-4929-9c74-ef99a3cc12aa",
    "pycharm": {
     "name": "#%%\n"
    }
   },
   "outputs": [
    {
     "name": "stdout",
     "output_type": "stream",
     "text": [
      "mean_absolute_error = 0.07084444165229797\n"
     ]
    }
   ],
   "source": [
    "#  Вычисление средней абсолютной ощибки (mean_absolute_error (MAE))\n",
    "from sklearn.metrics import mean_absolute_error\n",
    "mean_absolute_error = mean_absolute_error(y_test, predictions)\n",
    "print('mean_absolute_error =', mean_absolute_error)"
   ]
  },
  {
   "cell_type": "code",
   "execution_count": 329,
   "metadata": {
    "colab": {
     "base_uri": "https://localhost:8080/"
    },
    "id": "vpYuvLJ4-Xaj",
    "outputId": "a51e2d9d-3a40-48fe-983d-35675b620510",
    "pycharm": {
     "name": "#%%\n"
    }
   },
   "outputs": [
    {
     "name": "stdout",
     "output_type": "stream",
     "text": [
      "median_absolute_error= 0.017026901245117188\n"
     ]
    }
   ],
   "source": [
    "#  Вычисление медианной абсолютной ощибки (median_absolute_error)\n",
    "from sklearn.metrics import median_absolute_error\n",
    "median_absolute_error = median_absolute_error(y_test, predictions)\n",
    "print (\"median_absolute_error=\", median_absolute_error)"
   ]
  },
  {
   "cell_type": "code",
   "execution_count": 330,
   "metadata": {
    "colab": {
     "base_uri": "https://localhost:8080/"
    },
    "id": "qW3Yibdq1mbr",
    "outputId": "507dd9c4-d8f7-496d-d9d4-696f32358c79",
    "pycharm": {
     "name": "#%%\n"
    }
   },
   "outputs": [
    {
     "name": "stdout",
     "output_type": "stream",
     "text": [
      "MSE= 0.011283946221931452\n",
      "RMSE= 0.10622592066878711\n"
     ]
    }
   ],
   "source": [
    "# Вычисление среднекваратичной ошибки (MSE и RMSE)\n",
    "from sklearn.metrics import mean_squared_error\n",
    "MSE = mean_squared_error(y_test, predictions)\n",
    "print('MSE=', MSE)\n",
    "\n",
    "from math import sqrt\n",
    "RMSE = sqrt(mean_squared_error(y_test, predictions))\n",
    "print('RMSE=', RMSE)"
   ]
  },
  {
   "cell_type": "markdown",
   "metadata": {
    "id": "F6IIIUX1v0hv",
    "pycharm": {
     "name": "#%% md\n"
    }
   },
   "source": [
    "++++++++++     СОХРАНЕНИЕ СЕТИ       ++++++++++++++"
   ]
  },
  {
   "cell_type": "code",
   "execution_count": 331,
   "metadata": {
    "id": "66PojQ6U03_1",
    "pycharm": {
     "name": "#%%\n"
    }
   },
   "outputs": [],
   "source": [
    "# Сохранение сети\n",
    "model.save('NeuroSet', save_format='h5') "
   ]
  },
  {
   "cell_type": "code",
   "execution_count": 332,
   "metadata": {
    "id": "evD9JmRw2sn5",
    "pycharm": {
     "name": "#%%\n"
    }
   },
   "outputs": [],
   "source": [
    "Xtrn.to_csv('Trn.csv')"
   ]
  },
  {
   "cell_type": "code",
   "execution_count": 333,
   "metadata": {
    "colab": {
     "base_uri": "https://localhost:8080/"
    },
    "id": "ElgRXd5f-BxG",
    "outputId": "f6ff0c8b-13a0-4c89-83b4-add1e33f037d",
    "pycharm": {
     "name": "#%%\n"
    }
   },
   "outputs": [
    {
     "name": "stdout",
     "output_type": "stream",
     "text": [
      "1/1 [==============================] - 0s 65ms/step\n",
      "y_test\n",
      "[[0]\n",
      " [0]\n",
      " [1]\n",
      " [1]\n",
      " [0]]\n",
      "predictions\n",
      "[[ 0.20373648]\n",
      " [-0.1204702 ]\n",
      " [ 1.0030417 ]\n",
      " [ 1.0170269 ]\n",
      " [-0.00994688]]\n"
     ]
    }
   ],
   "source": [
    "#  Загрузка нейросети из файла\n",
    "from tensorflow.keras.models import load_model\n",
    "model = load_model('NeuroSet')\n",
    "\n",
    "# Применение сети\n",
    "predictions = model.predict(x_test)\n",
    "print('y_test')\n",
    "print(y_test)\n",
    "print('predictions')\n",
    "print(predictions)\n"
   ]
  },
  {
   "cell_type": "code",
   "execution_count": 334,
   "metadata": {
    "colab": {
     "base_uri": "https://localhost:8080/"
    },
    "id": "sU4WBJXPP18T",
    "outputId": "e536fe89-6c3b-44a3-ead8-87743ac2eec8",
    "pycharm": {
     "name": "#%%\n"
    }
   },
   "outputs": [
    {
     "name": "stdout",
     "output_type": "stream",
     "text": [
      "    X1  X2  X3  X4  X5  X6  X7\n",
      "0    1  42   1   0   9   8   0\n",
      "1    1  44   1   0   9   8   0\n",
      "2    1  46   1   0   9   8   0\n",
      "3    1  48   1   0   9   8   0\n",
      "4    1  50   1   0   9   8   0\n",
      "5    1  52   1   0   9   8   0\n",
      "6    1  54   1   0   9   8   0\n",
      "7    1  56   1   0   9   8   0\n",
      "8    1  58   1   0   9   8   0\n",
      "9    1  60   1   0   9   8   0\n",
      "10   1  62   1   0   9   8   0\n",
      "11   1  64   1   0   9   8   0\n",
      "12   1  66   1   0   9   8   0\n",
      "13   1  68   1   0   9   8   0\n",
      "14   1  70   1   0   9   8   0\n",
      "15   1  72   1   0   9   8   0\n",
      "16   1  74   1   0   9   8   0\n",
      "17   1  76   1   0   9   8   0\n",
      "18   1  78   1   0   9   8   0\n",
      "19   1  80   1   0   9   8   0\n"
     ]
    },
    {
     "name": "stderr",
     "output_type": "stream",
     "text": [
      "/usr/local/lib/python3.8/dist-packages/IPython/core/interactiveshell.py:3326: FutureWarning: In a future version of pandas all arguments of read_csv except for the argument 'filepath_or_buffer' will be keyword-only\n",
      "  exec(code_obj, self.user_global_ns, self.user_ns)\n"
     ]
    }
   ],
   "source": [
    "# Прогнозирование влияния возраста на рейтинг мэра (Подготовка)\n",
    "# Формирование входных параметров модели\n",
    "x_input = read_csv('! The influence of age.csv',';')\n",
    "print(x_input)"
   ]
  },
  {
   "cell_type": "code",
   "execution_count": 335,
   "metadata": {
    "colab": {
     "base_uri": "https://localhost:8080/"
    },
    "id": "Xfmh6bw_-FWw",
    "outputId": "10755cdf-c7c4-4274-8d67-406101dbb370",
    "pycharm": {
     "name": "#%%\n"
    }
   },
   "outputs": [
    {
     "name": "stdout",
     "output_type": "stream",
     "text": [
      "    X2\n",
      "0   42\n",
      "1   44\n",
      "2   46\n",
      "3   48\n",
      "4   50\n",
      "5   52\n",
      "6   54\n",
      "7   56\n",
      "8   58\n",
      "9   60\n",
      "10  62\n",
      "11  64\n",
      "12  66\n",
      "13  68\n",
      "14  70\n",
      "15  72\n",
      "16  74\n",
      "17  76\n",
      "18  78\n",
      "19  80\n"
     ]
    }
   ],
   "source": [
    "# Формирование оси абсцисс (Возраст)\n",
    "Age = x_input[['X2']]\n",
    "print (Age)"
   ]
  },
  {
   "cell_type": "code",
   "execution_count": 336,
   "metadata": {
    "colab": {
     "base_uri": "https://localhost:8080/"
    },
    "id": "brbo2R88cS2E",
    "outputId": "bd6f4dbb-e993-40bf-9af5-b678b68a3f8d",
    "pycharm": {
     "name": "#%%\n"
    }
   },
   "outputs": [
    {
     "name": "stdout",
     "output_type": "stream",
     "text": [
      "          X1        X2        X3        X4        X5        X6        X7\n",
      "0  -0.502188 -0.294761 -0.988376 -0.364894  0.828972  0.435141 -0.437798\n",
      "1  -0.502188 -0.117905 -0.988376 -0.364894  0.828972  0.435141 -0.437798\n",
      "2  -0.502188  0.058952 -0.988376 -0.364894  0.828972  0.435141 -0.437798\n",
      "3  -0.502188  0.235809 -0.988376 -0.364894  0.828972  0.435141 -0.437798\n",
      "4  -0.502188  0.412666 -0.988376 -0.364894  0.828972  0.435141 -0.437798\n",
      "5  -0.502188  0.589523 -0.988376 -0.364894  0.828972  0.435141 -0.437798\n",
      "6  -0.502188  0.766380 -0.988376 -0.364894  0.828972  0.435141 -0.437798\n",
      "7  -0.502188  0.943236 -0.988376 -0.364894  0.828972  0.435141 -0.437798\n",
      "8  -0.502188  1.120093 -0.988376 -0.364894  0.828972  0.435141 -0.437798\n",
      "9  -0.502188  1.296950 -0.988376 -0.364894  0.828972  0.435141 -0.437798\n",
      "10 -0.502188  1.473807 -0.988376 -0.364894  0.828972  0.435141 -0.437798\n",
      "11 -0.502188  1.650664 -0.988376 -0.364894  0.828972  0.435141 -0.437798\n",
      "12 -0.502188  1.827520 -0.988376 -0.364894  0.828972  0.435141 -0.437798\n",
      "13 -0.502188  2.004377 -0.988376 -0.364894  0.828972  0.435141 -0.437798\n",
      "14 -0.502188  2.181234 -0.988376 -0.364894  0.828972  0.435141 -0.437798\n",
      "15 -0.502188  2.358091 -0.988376 -0.364894  0.828972  0.435141 -0.437798\n",
      "16 -0.502188  2.534948 -0.988376 -0.364894  0.828972  0.435141 -0.437798\n",
      "17 -0.502188  2.711804 -0.988376 -0.364894  0.828972  0.435141 -0.437798\n",
      "18 -0.502188  2.888661 -0.988376 -0.364894  0.828972  0.435141 -0.437798\n",
      "19 -0.502188  3.065518 -0.988376 -0.364894  0.828972  0.435141 -0.437798\n",
      "1/1 [==============================] - 0s 21ms/step\n",
      "[[0.7682028 ]\n",
      " [0.7234249 ]\n",
      " [0.6640217 ]\n",
      " [0.59484303]\n",
      " [0.5234897 ]\n",
      " [0.45754945]\n",
      " [0.40193784]\n",
      " [0.35818964]\n",
      " [0.32543468]\n",
      " [0.3017406 ]\n",
      " [0.2850297 ]\n",
      " [0.27349398]\n",
      " [0.26570192]\n",
      " [0.26057172]\n",
      " [0.25730515]\n",
      " [0.25532016]\n",
      " [0.25419635]\n",
      " [0.2536321 ]\n",
      " [0.25341296]\n",
      " [0.25338835]]\n"
     ]
    }
   ],
   "source": [
    "# Стандартизация входных параметров\n",
    "x_input -= mean\n",
    "x_input /= std\n",
    "print(x_input)\n",
    "\n",
    "# Преобразование в формат numpy\n",
    "x_inp = x_input.to_numpy()\n",
    "predictions = model.predict(x_inp)\n",
    "print(predictions)"
   ]
  },
  {
   "cell_type": "code",
   "execution_count": 337,
   "metadata": {
    "colab": {
     "base_uri": "https://localhost:8080/",
     "height": 295
    },
    "id": "oXEZ9npI0xk1",
    "outputId": "2d1abfba-09a1-40db-acff-1d36f62e0cde",
    "pycharm": {
     "name": "#%%\n"
    }
   },
   "outputs": [
    {
     "data": {
      "image/png": "[encoded data removed]",
      "text/plain": [
       "<Figure size 432x288 with 1 Axes>"
      ]
     },
     "metadata": {
      "needs_background": "light"
     },
     "output_type": "display_data"
    }
   ],
   "source": [
    "# рисуем график\n",
    "from matplotlib import pyplot as plt   \n",
    "   \n",
    "x = Age  \n",
    "y = predictions\n",
    "\n",
    "plt.plot(x,y)   \n",
    "plt.title(\"Зависимость рейтинга мэра от его возраста\")   \n",
    "plt.ylabel('Рейтинг')   \n",
    "plt.xlabel('Возраст, лет')   \n",
    "plt.show() "
   ]
  },
  {
   "cell_type": "code",
   "execution_count": 338,
   "metadata": {
    "colab": {
     "base_uri": "https://localhost:8080/"
    },
    "id": "GZ68Xvqa0P0z",
    "outputId": "360726b1-f800-4060-a72a-18941bc74a47",
    "pycharm": {
     "name": "#%%\n"
    }
   },
   "outputs": [
    {
     "name": "stderr",
     "output_type": "stream",
     "text": [
      "/usr/local/lib/python3.8/dist-packages/IPython/core/interactiveshell.py:3326: FutureWarning: In a future version of pandas all arguments of read_csv except for the argument 'filepath_or_buffer' will be keyword-only\n",
      "  exec(code_obj, self.user_global_ns, self.user_ns)\n"
     ]
    }
   ],
   "source": [
    "# Прогнозирование влияния возраста и кол-ва детей на рейтинг мэра (Подготовка)\n",
    "# Формирование входных параметров модели\n",
    "\n",
    "x2_input = read_csv('! The influence of childrens.csv',';')\n",
    "# print(x2_input)\n",
    "\n",
    "# Формирование оси абсцисс (Возраст)\n",
    "Age2 = x2_input[['X2']]"
   ]
  },
  {
   "cell_type": "code",
   "execution_count": 339,
   "metadata": {
    "colab": {
     "base_uri": "https://localhost:8080/"
    },
    "id": "ZmRhCKo20fCN",
    "outputId": "ff61d5f9-405f-4f38-cbff-5ff6c8dcac83",
    "pycharm": {
     "name": "#%%\n"
    }
   },
   "outputs": [
    {
     "name": "stdout",
     "output_type": "stream",
     "text": [
      "1/1 [==============================] - 0s 29ms/step\n"
     ]
    }
   ],
   "source": [
    "# Стандартизация входных параметров\n",
    "x2_input -= mean\n",
    "x2_input /= std\n",
    "# print(x2_input)\n",
    "\n",
    "# Преобразование в numpy\n",
    "x2_inp = x2_input.to_numpy()\n",
    "predictions2 = model.predict(x2_inp)\n",
    "# print(predictions2)"
   ]
  },
  {
   "cell_type": "code",
   "execution_count": 340,
   "metadata": {
    "colab": {
     "base_uri": "https://localhost:8080/",
     "height": 295
    },
    "id": "K6Apx1PO1Mw0",
    "outputId": "03a9de5a-b3ae-4ecf-e784-9f270442b567",
    "pycharm": {
     "name": "#%%\n"
    }
   },
   "outputs": [
    {
     "data": {
      "image/png": "[encoded data removed]",
      "text/plain": [
       "<Figure size 432x288 with 1 Axes>"
      ]
     },
     "metadata": {
      "needs_background": "light"
     },
     "output_type": "display_data"
    }
   ],
   "source": [
    "from matplotlib import pyplot as plt   \n",
    "   \n",
    "x = Age \n",
    "x2 = Age2 \n",
    "y = predictions\n",
    "y2 = predictions2\n",
    "\n",
    "plt.plot(x, y, 'b', label='Один ребенок')\n",
    "plt.plot(x2, y2, 'r', label='Два ребенка')      \n",
    "plt.title(\"Зависимость рейтинга мэра от его возраста и кол-ва детей\")   \n",
    "plt.ylabel('Рейтинг')   \n",
    "plt.xlabel('Возраст, лет')   \n",
    "plt.show() "
   ]
  },
  {
   "cell_type": "code",
   "execution_count": 341,
   "metadata": {
    "colab": {
     "base_uri": "https://localhost:8080/"
    },
    "id": "h1kduwTj0sVO",
    "outputId": "e040e58c-962c-4189-876e-40d14e566c94",
    "pycharm": {
     "name": "#%%\n"
    }
   },
   "outputs": [
    {
     "name": "stdout",
     "output_type": "stream",
     "text": [
      "1/1 [==============================] - 0s 22ms/step\n"
     ]
    },
    {
     "name": "stderr",
     "output_type": "stream",
     "text": [
      "/usr/local/lib/python3.8/dist-packages/IPython/core/interactiveshell.py:3326: FutureWarning: In a future version of pandas all arguments of read_csv except for the argument 'filepath_or_buffer' will be keyword-only\n",
      "  exec(code_obj, self.user_global_ns, self.user_ns)\n"
     ]
    }
   ],
   "source": [
    "# Прогнозирование влияния возраста и кол-ва детей на рейтинг мэра (Подготовка)\n",
    "# Формирование входных параметров модели\n",
    "\n",
    "x3_input = read_csv('! The influence of childrens3.csv',';')\n",
    "# print(x3_input)\n",
    "\n",
    "# Формирование оси абсцисс (Возраст)\n",
    "Age3 = x3_input[['X2']]\n",
    "\n",
    "# Стандартизация входных параметров\n",
    "x3_input -= mean\n",
    "x3_input /= std\n",
    "# print(x3_input)\n",
    "\n",
    "# Преобразование в numpy\n",
    "x3_inp = x3_input.to_numpy()\n",
    "predictions3 = model.predict(x3_inp)\n",
    "# print(predictions3)"
   ]
  },
  {
   "cell_type": "code",
   "execution_count": 342,
   "metadata": {
    "colab": {
     "base_uri": "https://localhost:8080/",
     "height": 295
    },
    "id": "bVri2EcT1F0l",
    "outputId": "9ab946c5-0bce-46fb-da15-1031733589fc",
    "pycharm": {
     "name": "#%%\n"
    }
   },
   "outputs": [
    {
     "data": {
      "image/png": "[encoded data removed]",
      "text/plain": [
       "<Figure size 432x288 with 1 Axes>"
      ]
     },
     "metadata": {
      "needs_background": "light"
     },
     "output_type": "display_data"
    }
   ],
   "source": [
    "from matplotlib import pyplot as plt   \n",
    "   \n",
    "x = Age \n",
    "x2 = Age2\n",
    "x3 = Age3\n",
    "y = predictions\n",
    "y2 = predictions2\n",
    "y3 = predictions3\n",
    "\n",
    "plt.plot(x, y, 'r', label='Один ребенок')\n",
    "plt.plot(x2, y2, 'g', label='Два ребенка')\n",
    "plt.plot(x3, y3, 'b', label='Три ребенка')    \n",
    "plt.title(\"Зависимость рейтинга мэра от возраста и кол-ва детей\")   \n",
    "plt.ylabel('Рейтинг')\n",
    "plt.xlabel('Возраст, лет')\n",
    "plt.ylim([0,1])\n",
    "plt.legend([\"Один ребенок\", \"Два ребенка\", \"Три ребенка\"])\n",
    "plt.show()"
   ]
  }
 ],
 "metadata": {
  "colab": {
   "provenance": []
  },
  "kernelspec": {
   "display_name": "Python 3 (ipykernel)",
   "language": "python",
   "name": "python3"
  },
  "language_info": {
   "codemirror_mode": {
    "name": "ipython",
    "version": 3
   },
   "file_extension": ".py",
   "mimetype": "text/x-python",
   "name": "python",
   "nbconvert_exporter": "python",
   "pygments_lexer": "ipython3",
   "version": "3.8.10"
  }
 },
 "nbformat": 4,
 "nbformat_minor": 4
}
